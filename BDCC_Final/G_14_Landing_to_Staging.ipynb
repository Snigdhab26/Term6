{
 "cells": [
  {
   "cell_type": "markdown",
   "metadata": {
    "application/vnd.databricks.v1+cell": {
     "cellMetadata": {},
     "inputWidgets": {},
     "nuid": "ce8e6a9b-2b5f-4bcc-9e7f-dfa86b0ffdfa",
     "showTitle": false,
     "title": ""
    }
   },
   "source": [
    "#Group : 14\n",
    "\n",
    "Malika Lal 12220004\n",
    "\n",
    "Snigdha Bhattacharjee 12220067\n",
    "\n",
    "Deepak Sahu 12220074\n",
    "\n",
    "Aadarsh Mohapatra 12220033"
   ]
  },
  {
   "cell_type": "markdown",
   "metadata": {
    "application/vnd.databricks.v1+cell": {
     "cellMetadata": {},
     "inputWidgets": {},
     "nuid": "b7c4132c-6996-4d07-94d2-127e38cef1b7",
     "showTitle": false,
     "title": ""
    }
   },
   "source": [
    "\n",
    "##Landing Zone"
   ]
  },
  {
   "cell_type": "markdown",
   "metadata": {
    "application/vnd.databricks.v1+cell": {
     "cellMetadata": {},
     "inputWidgets": {},
     "nuid": "a11667e3-5e75-494e-a719-5fbd0978415d",
     "showTitle": false,
     "title": ""
    }
   },
   "source": [
    "The landing zone is a storage area designed to handle the initial ingested data. It's a raw, transient area where data is landed without much processing. "
   ]
  },
  {
   "cell_type": "code",
   "execution_count": 0,
   "metadata": {
    "application/vnd.databricks.v1+cell": {
     "cellMetadata": {
      "byteLimit": 2048000,
      "rowLimit": 10000
     },
     "inputWidgets": {},
     "nuid": "cc6a3a15-e908-491e-8f16-0eaaa9f0669c",
     "showTitle": false,
     "title": ""
    }
   },
   "outputs": [
    {
     "output_type": "display_data",
     "data": {
      "text/html": [
       "<style scoped>\n",
       "  .table-result-container {\n",
       "    max-height: 300px;\n",
       "    overflow: auto;\n",
       "  }\n",
       "  table, th, td {\n",
       "    border: 1px solid black;\n",
       "    border-collapse: collapse;\n",
       "  }\n",
       "  th, td {\n",
       "    padding: 5px;\n",
       "  }\n",
       "  th {\n",
       "    text-align: left;\n",
       "  }\n",
       "</style><div class='table-result-container'><table class='table-result'><thead style='background-color: white'><tr><th>path</th><th>name</th><th>size</th><th>modificationTime</th></tr></thead><tbody><tr><td>dbfs:/FileStore/tables/Airline_Case_Graphframes-1.ipynb</td><td>Airline_Case_Graphframes-1.ipynb</td><td>9836</td><td>1679199794000</td></tr><tr><td>dbfs:/FileStore/tables/Airline_Case_Graphframes-2.ipynb</td><td>Airline_Case_Graphframes-2.ipynb</td><td>9836</td><td>1679200069000</td></tr><tr><td>dbfs:/FileStore/tables/Airline_Case_Graphframes.ipynb</td><td>Airline_Case_Graphframes.ipynb</td><td>9836</td><td>1679199002000</td></tr><tr><td>dbfs:/FileStore/tables/GraphFrames.ipynb</td><td>GraphFrames.ipynb</td><td>5789</td><td>1679199001000</td></tr><tr><td>dbfs:/FileStore/tables/GraphFramesCommands.txt</td><td>GraphFramesCommands.txt</td><td>2285</td><td>1679199001000</td></tr><tr><td>dbfs:/FileStore/tables/Market_Basket_Analysis_v1.dbc</td><td>Market_Basket_Analysis_v1.dbc</td><td>12180</td><td>1704530413000</td></tr><tr><td>dbfs:/FileStore/tables/Stream_processing_with_Kafka_v1.dbc</td><td>Stream_processing_with_Kafka_v1.dbc</td><td>11492</td><td>1704530413000</td></tr><tr><td>dbfs:/FileStore/tables/Working_with_JSON_and_SQL_1_0.dbc</td><td>Working_with_JSON_and_SQL_1_0.dbc</td><td>19220</td><td>1704530413000</td></tr><tr><td>dbfs:/FileStore/tables/airportsna.csv</td><td>airportsna.csv</td><td>11412</td><td>1679199002000</td></tr><tr><td>dbfs:/FileStore/tables/customers.json</td><td>customers.json</td><td>15815082</td><td>1704000459000</td></tr><tr><td>dbfs:/FileStore/tables/datafile2-1.txt</td><td>datafile2-1.txt</td><td>55455</td><td>1679127658000</td></tr><tr><td>dbfs:/FileStore/tables/datafile2.txt</td><td>datafile2.txt</td><td>55455</td><td>1678564379000</td></tr><tr><td>dbfs:/FileStore/tables/departureDelays.csv</td><td>departureDelays.csv</td><td>23984321</td><td>1679199151000</td></tr><tr><td>dbfs:/FileStore/tables/isb big data/</td><td>isb big data/</td><td>0</td><td>0</td></tr><tr><td>dbfs:/FileStore/tables/itemfile-1.txt</td><td>itemfile-1.txt</td><td>236344</td><td>1679127661000</td></tr><tr><td>dbfs:/FileStore/tables/itemfile.txt</td><td>itemfile.txt</td><td>236344</td><td>1678564380000</td></tr><tr><td>dbfs:/FileStore/tables/movies.txt</td><td>movies.txt</td><td>236344</td><td>1677037984000</td></tr><tr><td>dbfs:/FileStore/tables/moviesearch.py</td><td>moviesearch.py</td><td>554</td><td>1677037974000</td></tr><tr><td>dbfs:/FileStore/tables/orders.csv</td><td>orders.csv</td><td>32138462</td><td>1704000618000</td></tr><tr><td>dbfs:/FileStore/tables/people-1.json</td><td>people-1.json</td><td>73</td><td>1677039461000</td></tr><tr><td>dbfs:/FileStore/tables/people-1.txt</td><td>people-1.txt</td><td>32</td><td>1677035389000</td></tr><tr><td>dbfs:/FileStore/tables/people-2.txt</td><td>people-2.txt</td><td>32</td><td>1677035504000</td></tr><tr><td>dbfs:/FileStore/tables/people-3.txt</td><td>people-3.txt</td><td>32</td><td>1677035704000</td></tr><tr><td>dbfs:/FileStore/tables/people.json</td><td>people.json</td><td>73</td><td>1677033867000</td></tr><tr><td>dbfs:/FileStore/tables/people.txt</td><td>people.txt</td><td>32</td><td>1677033851000</td></tr><tr><td>dbfs:/FileStore/tables/rossmansales_2013.csv</td><td>rossmansales_2013.csv</td><td>12764931</td><td>1702813322000</td></tr><tr><td>dbfs:/FileStore/tables/rossmansales_2014.csv</td><td>rossmansales_2014.csv</td><td>11724285</td><td>1702813320000</td></tr><tr><td>dbfs:/FileStore/tables/rossmansales_2015.csv</td><td>rossmansales_2015.csv</td><td>7352847</td><td>1702813318000</td></tr><tr><td>dbfs:/FileStore/tables/rossmanstores.csv</td><td>rossmanstores.csv</td><td>45010</td><td>1702813936000</td></tr><tr><td>dbfs:/FileStore/tables/transactions.csv</td><td>transactions.csv</td><td>368</td><td>1678564538000</td></tr><tr><td>dbfs:/FileStore/tables/txnjsonsmall</td><td>txnjsonsmall</td><td>588495</td><td>1704535270000</td></tr><tr><td>dbfs:/FileStore/tables/users.csv</td><td>users.csv</td><td>799</td><td>1678564538000</td></tr></tbody></table></div>"
      ]
     },
     "metadata": {
      "application/vnd.databricks.v1+output": {
       "addedWidgets": {},
       "aggData": [],
       "aggError": "",
       "aggOverflow": false,
       "aggSchema": [],
       "aggSeriesLimitReached": false,
       "aggType": "",
       "arguments": {},
       "columnCustomDisplayInfos": {},
       "data": [
        [
         "dbfs:/FileStore/tables/Airline_Case_Graphframes-1.ipynb",
         "Airline_Case_Graphframes-1.ipynb",
         9836,
         1679199794000
        ],
        [
         "dbfs:/FileStore/tables/Airline_Case_Graphframes-2.ipynb",
         "Airline_Case_Graphframes-2.ipynb",
         9836,
         1679200069000
        ],
        [
         "dbfs:/FileStore/tables/Airline_Case_Graphframes.ipynb",
         "Airline_Case_Graphframes.ipynb",
         9836,
         1679199002000
        ],
        [
         "dbfs:/FileStore/tables/GraphFrames.ipynb",
         "GraphFrames.ipynb",
         5789,
         1679199001000
        ],
        [
         "dbfs:/FileStore/tables/GraphFramesCommands.txt",
         "GraphFramesCommands.txt",
         2285,
         1679199001000
        ],
        [
         "dbfs:/FileStore/tables/Market_Basket_Analysis_v1.dbc",
         "Market_Basket_Analysis_v1.dbc",
         12180,
         1704530413000
        ],
        [
         "dbfs:/FileStore/tables/Stream_processing_with_Kafka_v1.dbc",
         "Stream_processing_with_Kafka_v1.dbc",
         11492,
         1704530413000
        ],
        [
         "dbfs:/FileStore/tables/Working_with_JSON_and_SQL_1_0.dbc",
         "Working_with_JSON_and_SQL_1_0.dbc",
         19220,
         1704530413000
        ],
        [
         "dbfs:/FileStore/tables/airportsna.csv",
         "airportsna.csv",
         11412,
         1679199002000
        ],
        [
         "dbfs:/FileStore/tables/customers.json",
         "customers.json",
         15815082,
         1704000459000
        ],
        [
         "dbfs:/FileStore/tables/datafile2-1.txt",
         "datafile2-1.txt",
         55455,
         1679127658000
        ],
        [
         "dbfs:/FileStore/tables/datafile2.txt",
         "datafile2.txt",
         55455,
         1678564379000
        ],
        [
         "dbfs:/FileStore/tables/departureDelays.csv",
         "departureDelays.csv",
         23984321,
         1679199151000
        ],
        [
         "dbfs:/FileStore/tables/isb big data/",
         "isb big data/",
         0,
         0
        ],
        [
         "dbfs:/FileStore/tables/itemfile-1.txt",
         "itemfile-1.txt",
         236344,
         1679127661000
        ],
        [
         "dbfs:/FileStore/tables/itemfile.txt",
         "itemfile.txt",
         236344,
         1678564380000
        ],
        [
         "dbfs:/FileStore/tables/movies.txt",
         "movies.txt",
         236344,
         1677037984000
        ],
        [
         "dbfs:/FileStore/tables/moviesearch.py",
         "moviesearch.py",
         554,
         1677037974000
        ],
        [
         "dbfs:/FileStore/tables/orders.csv",
         "orders.csv",
         32138462,
         1704000618000
        ],
        [
         "dbfs:/FileStore/tables/people-1.json",
         "people-1.json",
         73,
         1677039461000
        ],
        [
         "dbfs:/FileStore/tables/people-1.txt",
         "people-1.txt",
         32,
         1677035389000
        ],
        [
         "dbfs:/FileStore/tables/people-2.txt",
         "people-2.txt",
         32,
         1677035504000
        ],
        [
         "dbfs:/FileStore/tables/people-3.txt",
         "people-3.txt",
         32,
         1677035704000
        ],
        [
         "dbfs:/FileStore/tables/people.json",
         "people.json",
         73,
         1677033867000
        ],
        [
         "dbfs:/FileStore/tables/people.txt",
         "people.txt",
         32,
         1677033851000
        ],
        [
         "dbfs:/FileStore/tables/rossmansales_2013.csv",
         "rossmansales_2013.csv",
         12764931,
         1702813322000
        ],
        [
         "dbfs:/FileStore/tables/rossmansales_2014.csv",
         "rossmansales_2014.csv",
         11724285,
         1702813320000
        ],
        [
         "dbfs:/FileStore/tables/rossmansales_2015.csv",
         "rossmansales_2015.csv",
         7352847,
         1702813318000
        ],
        [
         "dbfs:/FileStore/tables/rossmanstores.csv",
         "rossmanstores.csv",
         45010,
         1702813936000
        ],
        [
         "dbfs:/FileStore/tables/transactions.csv",
         "transactions.csv",
         368,
         1678564538000
        ],
        [
         "dbfs:/FileStore/tables/txnjsonsmall",
         "txnjsonsmall",
         588495,
         1704535270000
        ],
        [
         "dbfs:/FileStore/tables/users.csv",
         "users.csv",
         799,
         1678564538000
        ]
       ],
       "datasetInfos": [],
       "dbfsResultPath": null,
       "isJsonSchema": true,
       "metadata": {
        "isDbfsCommandResult": false
       },
       "overflow": false,
       "plotOptions": {
        "customPlotOptions": {},
        "displayType": "table",
        "pivotAggregation": null,
        "pivotColumns": null,
        "xColumns": null,
        "yColumns": null
       },
       "removedWidgets": [],
       "schema": [
        {
         "metadata": "{}",
         "name": "path",
         "type": "\"string\""
        },
        {
         "metadata": "{}",
         "name": "name",
         "type": "\"string\""
        },
        {
         "metadata": "{}",
         "name": "size",
         "type": "\"long\""
        },
        {
         "metadata": "{}",
         "name": "modificationTime",
         "type": "\"long\""
        }
       ],
       "type": "table"
      }
     },
     "output_type": "display_data"
    }
   ],
   "source": [
    "%fs ls dbfs:/FileStore/tables/"
   ]
  },
  {
   "cell_type": "markdown",
   "metadata": {
    "application/vnd.databricks.v1+cell": {
     "cellMetadata": {},
     "inputWidgets": {},
     "nuid": "f47ed950-a2e7-4acf-834c-654e188b782b",
     "showTitle": false,
     "title": ""
    }
   },
   "source": [
    "The command %fs ls dbfs:/FileStore/tables/ is used to list the files in the specified directory (dbfs:/FileStore/tables/) in the Databricks DBFS. It provides information about the files, such as their names, sizes, and modification dates."
   ]
  },
  {
   "cell_type": "code",
   "execution_count": 0,
   "metadata": {
    "application/vnd.databricks.v1+cell": {
     "cellMetadata": {
      "byteLimit": 2048000,
      "rowLimit": 10000
     },
     "inputWidgets": {},
     "nuid": "46ea3e3b-2517-4882-a35b-b8bb2f519c32",
     "showTitle": false,
     "title": ""
    }
   },
   "outputs": [],
   "source": [
    "spark.conf.set(\"spark.sql.legacy.timeParserPolicy\",\"LEGACY\")"
   ]
  },
  {
   "cell_type": "markdown",
   "metadata": {
    "application/vnd.databricks.v1+cell": {
     "cellMetadata": {},
     "inputWidgets": {},
     "nuid": "346010f6-d3d1-4912-8329-e2e724308434",
     "showTitle": false,
     "title": ""
    }
   },
   "source": [
    "The spark.conf.set(\"spark.sql.legacy.timeParserPolicy\", \"LEGACY\") code is used to set a configuration option in Apache Spark's SparkSession."
   ]
  },
  {
   "cell_type": "code",
   "execution_count": 0,
   "metadata": {
    "application/vnd.databricks.v1+cell": {
     "cellMetadata": {
      "byteLimit": 2048000,
      "implicitDf": true,
      "rowLimit": 10000
     },
     "inputWidgets": {},
     "nuid": "9c854dd4-318e-4b60-bfa3-ac05e8097430",
     "showTitle": false,
     "title": ""
    }
   },
   "outputs": [
    {
     "output_type": "display_data",
     "data": {
      "text/html": [
       "<style scoped>\n",
       "  .table-result-container {\n",
       "    max-height: 300px;\n",
       "    overflow: auto;\n",
       "  }\n",
       "  table, th, td {\n",
       "    border: 1px solid black;\n",
       "    border-collapse: collapse;\n",
       "  }\n",
       "  th, td {\n",
       "    padding: 5px;\n",
       "  }\n",
       "  th {\n",
       "    text-align: left;\n",
       "  }\n",
       "</style><div class='table-result-container'><table class='table-result'><thead style='background-color: white'><tr></tr></thead><tbody></tbody></table></div>"
      ]
     },
     "metadata": {
      "application/vnd.databricks.v1+output": {
       "addedWidgets": {},
       "aggData": [],
       "aggError": "",
       "aggOverflow": false,
       "aggSchema": [],
       "aggSeriesLimitReached": false,
       "aggType": "",
       "arguments": {},
       "columnCustomDisplayInfos": {},
       "data": [],
       "datasetInfos": [],
       "dbfsResultPath": null,
       "isJsonSchema": true,
       "metadata": {},
       "overflow": false,
       "plotOptions": {
        "customPlotOptions": {},
        "displayType": "table",
        "pivotAggregation": null,
        "pivotColumns": null,
        "xColumns": null,
        "yColumns": null
       },
       "removedWidgets": [],
       "schema": [],
       "type": "table"
      }
     },
     "output_type": "display_data"
    }
   ],
   "source": [
    "%sql \n",
    "DROP DATABASE IF EXISTS landing_orders CASCADE;\n",
    "\n",
    "CREATE DATABASE landing_orders;\n",
    "\n",
    "--- These statements are checking whether landing_orders database exists. If exists then drop and create"
   ]
  },
  {
   "cell_type": "markdown",
   "metadata": {
    "application/vnd.databricks.v1+cell": {
     "cellMetadata": {},
     "inputWidgets": {},
     "nuid": "279ee385-4abc-4862-8af5-930f3e299020",
     "showTitle": false,
     "title": ""
    }
   },
   "source": [
    "Creating a landing database. Before creating database checking if it exists. So if the databse exists then drop and create."
   ]
  },
  {
   "cell_type": "code",
   "execution_count": 0,
   "metadata": {
    "application/vnd.databricks.v1+cell": {
     "cellMetadata": {
      "byteLimit": 2048000,
      "rowLimit": 10000
     },
     "inputWidgets": {},
     "nuid": "edf96c44-e400-4667-ae3f-75834dedc56a",
     "showTitle": false,
     "title": ""
    }
   },
   "outputs": [
    {
     "output_type": "display_data",
     "data": {
      "text/html": [
       "<style scoped>\n",
       "  .ansiout {\n",
       "    display: block;\n",
       "    unicode-bidi: embed;\n",
       "    white-space: pre-wrap;\n",
       "    word-wrap: break-word;\n",
       "    word-break: break-all;\n",
       "    font-family: \"Menlo\", \"Monaco\", \"Consolas\", \"Ubuntu Mono\", \"Source Code Pro\", monospace;\n",
       "    font-size: 13px;\n",
       "    color: #555;\n",
       "    margin-left: 4px;\n",
       "    line-height: 19px;\n",
       "  }\n",
       "</style>\n",
       "<div class=\"ansiout\">res1: Boolean = false\n",
       "</div>"
      ]
     },
     "metadata": {
      "application/vnd.databricks.v1+output": {
       "addedWidgets": {},
       "arguments": {},
       "data": "<div class=\"ansiout\">res1: Boolean = false\n</div>",
       "datasetInfos": [],
       "metadata": {
        "isDbfsCommandResult": false
       },
       "removedWidgets": [],
       "type": "html"
      }
     },
     "output_type": "display_data"
    }
   ],
   "source": [
    "%fs rm -r dbfs:/user/hive/warehouse/landing_orders.db/orders\n"
   ]
  },
  {
   "cell_type": "markdown",
   "metadata": {
    "application/vnd.databricks.v1+cell": {
     "cellMetadata": {},
     "inputWidgets": {},
     "nuid": "1f2da664-e246-45e7-b6b7-55d18a97a1de",
     "showTitle": false,
     "title": ""
    }
   },
   "source": [
    "The %fs rm -r command is used to remove files and directories in the Databricks File System (DBFS). In this case, the command %fs rm -r dbfs:/user/hive/warehouse/landing_orders.db/orders is used to recursively remove the directory containing data related to the orders table in the landing_orders.db Hive database."
   ]
  },
  {
   "cell_type": "markdown",
   "metadata": {
    "application/vnd.databricks.v1+cell": {
     "cellMetadata": {},
     "inputWidgets": {},
     "nuid": "c8c83033-2100-4fd9-ae09-3a70860e3831",
     "showTitle": false,
     "title": ""
    }
   },
   "source": [
    "## Loading CSV File"
   ]
  },
  {
   "cell_type": "code",
   "execution_count": 0,
   "metadata": {
    "application/vnd.databricks.v1+cell": {
     "cellMetadata": {
      "byteLimit": 2048000,
      "rowLimit": 10000
     },
     "inputWidgets": {},
     "nuid": "5ada37bf-a28f-41b8-985c-26e6886920f2",
     "showTitle": false,
     "title": ""
    }
   },
   "outputs": [],
   "source": [
    "from pyspark.sql.types import *\n",
    "\n",
    "# Define the custom schema\n",
    "fields = StructType([StructField(\"order_id\", IntegerType(), True),\n",
    "                     StructField(\"order_date\", StringType(), True),\n",
    "                     StructField(\"status\", StringType(), True),\n",
    "                     StructField(\"item_id\", StringType(), False), \n",
    "                     StructField(\"qty_ordered\", StringType(), False),\n",
    "                     StructField(\"price\", StringType(), True),\n",
    "                     StructField(\"value\", StringType(), True),\n",
    "                     StructField(\"discount_amount\", StringType(), True),\n",
    "                     StructField(\"total\", StringType(), True),\n",
    "                     StructField(\"category\", StringType(), True),\n",
    "                     StructField(\"payment_method\", StringType(), True),\n",
    "                     StructField(\"cust_id\", StringType(), True),\n",
    "                     StructField(\"year\", StringType(), True),\n",
    "                     StructField(\"month\", StringType(), True)])\n",
    "            \n",
    "                     \n",
    "  \n",
    "# Read from landing zone into dataframe                     \n",
    "Orders_df = sqlContext.read.csv(\"/FileStore/tables/orders.csv\", \n",
    "                                header = True, \n",
    "                                schema = StructType(fields) )"
   ]
  },
  {
   "cell_type": "markdown",
   "metadata": {
    "application/vnd.databricks.v1+cell": {
     "cellMetadata": {},
     "inputWidgets": {},
     "nuid": "94c10516-f34f-4bd0-b1e3-f29129baef98",
     "showTitle": false,
     "title": ""
    }
   },
   "source": [
    "Importing all data types and structures from the pyspark.sql.types module.Then defining the custom schema using the StructType structure to specify each field in the schema with its name, data type, and whether it is nullable.In the final step, read the csv file using the custom schema defined earlier."
   ]
  },
  {
   "cell_type": "code",
   "execution_count": 0,
   "metadata": {
    "application/vnd.databricks.v1+cell": {
     "cellMetadata": {
      "byteLimit": 2048000,
      "rowLimit": 10000
     },
     "inputWidgets": {},
     "nuid": "6d14eef5-c26d-43a9-aa7e-6718b17867d1",
     "showTitle": false,
     "title": ""
    }
   },
   "outputs": [
    {
     "output_type": "stream",
     "name": "stdout",
     "output_type": "stream",
     "text": [
      "+---------+----------+--------------+--------+-----------+-----+------+-----------------+---------+-----------------+--------------+-------+----+--------+\n| order_id|order_date|        status| item_id|qty_ordered|price| value|  discount_amount|    total|         category|payment_method|cust_id|year|   month|\n+---------+----------+--------------+--------+-----------+-----+------+-----------------+---------+-----------------+--------------+-------+----+--------+\n|100354678|2020-10-01|      received|574772.0|       21.0| 89.9|1798.0|              0.0|   1798.0|    Men's Fashion|           cod|60124.0|2020|Oct-2020|\n|100354678|2020-10-01|      received|574774.0|       11.0| 19.0| 190.0|              0.0|    190.0|    Men's Fashion|           cod|60124.0|2020|Oct-2020|\n|100354680|2020-10-01|      complete|574777.0|        9.0|149.9|1199.2|              0.0|   1199.2|    Men's Fashion|           cod|60124.0|2020|Oct-2020|\n|100354680|2020-10-01|      complete|574779.0|        9.0| 79.9| 639.2|              0.0|    639.2|    Men's Fashion|           cod|60124.0|2020|Oct-2020|\n|100367357|2020-11-13|      received|595185.0|        2.0| 99.9|  99.9|              0.0|     99.9|    Men's Fashion|           cod|60124.0|2020|Nov-2020|\n|100367357|2020-11-13|      received|595186.0|        2.0| 39.9|  39.9|              0.0|     39.9|    Men's Fashion|           cod|60124.0|2020|Nov-2020|\n|100367360|2020-11-13|order_refunded|595192.0|        2.0| 47.6|  47.6|              0.0|     47.6|Mobiles & Tablets|           cod|60124.0|2020|Nov-2020|\n|100354677|2020-10-01|      canceled|574769.0|        2.0| 49.0|  49.0|              0.0|     49.0|Mobiles & Tablets|       Payaxis|42485.0|2020|Oct-2020|\n|100354677|2020-10-01|      canceled|574770.0|        2.0|135.0| 135.0|              0.0|    135.0|        Computing|       Payaxis|42485.0|2020|Oct-2020|\n|100354677|2020-10-01|      canceled|574771.0|        2.0|549.9| 549.9|              0.0|    549.9|       Appliances|       Payaxis|42485.0|2020|Oct-2020|\n|100356116|2020-10-08|order_refunded|577467.0|        1.0|549.9|   0.0|              0.0|      0.0|       Appliances|       Payaxis|42485.0|2020|Oct-2020|\n|100358724|2020-10-21|order_refunded|581862.0|        1.0|549.9|   0.0|              0.0|      0.0|       Appliances|           cod|42485.0|2020|Oct-2020|\n|100403034|2020-12-24|      canceled|656937.0|        2.0|254.8| 254.8|         39.80628|214.99372|       Appliances|       Easypay|42485.0|2020|Dec-2020|\n|100403034|2020-12-24|      canceled|656938.0|        2.0|315.5| 315.5|49.28916999999999|266.21083|       Appliances|       Easypay|42485.0|2020|Dec-2020|\n|100403034|2020-12-24|      canceled|656939.0|        2.0| 69.8|  69.8|         10.90455| 58.89545|    Home & Living|       Easypay|42485.0|2020|Dec-2020|\n|100403077|2020-12-24|      canceled|657023.0|        2.0|254.8| 254.8|         39.80628|214.99372|       Appliances|       Easypay|42485.0|2020|Dec-2020|\n|100403077|2020-12-24|      canceled|657024.0|        2.0|315.5| 315.5|49.28916999999999|266.21083|       Appliances|       Easypay|42485.0|2020|Dec-2020|\n|100403077|2020-12-24|      canceled|657025.0|        2.0| 69.8|  69.8|         10.90455| 58.89545|    Home & Living|       Easypay|42485.0|2020|Dec-2020|\n|100403411|2020-12-24|      canceled|657547.0|        2.0|254.8| 254.8|         39.80628|214.99372|       Appliances|       Easypay|42485.0|2020|Dec-2020|\n|100403411|2020-12-24|      canceled|657548.0|        2.0|315.5| 315.5|49.28916999999999|266.21083|       Appliances|       Easypay|42485.0|2020|Dec-2020|\n+---------+----------+--------------+--------+-----------+-----+------+-----------------+---------+-----------------+--------------+-------+----+--------+\nonly showing top 20 rows\n\n"
     ]
    }
   ],
   "source": [
    "Orders_df.show(20) ## Checking the loaded data."
   ]
  },
  {
   "cell_type": "code",
   "execution_count": 0,
   "metadata": {
    "application/vnd.databricks.v1+cell": {
     "cellMetadata": {
      "byteLimit": 2048000,
      "rowLimit": 10000
     },
     "inputWidgets": {},
     "nuid": "036690cd-4856-4854-b988-23e09fb293d9",
     "showTitle": false,
     "title": ""
    }
   },
   "outputs": [
    {
     "output_type": "stream",
     "name": "stdout",
     "output_type": "stream",
     "text": [
      "root\n |-- order_id: integer (nullable = true)\n |-- order_date: string (nullable = true)\n |-- status: string (nullable = true)\n |-- item_id: string (nullable = true)\n |-- qty_ordered: string (nullable = true)\n |-- price: string (nullable = true)\n |-- value: string (nullable = true)\n |-- discount_amount: string (nullable = true)\n |-- total: string (nullable = true)\n |-- category: string (nullable = true)\n |-- payment_method: string (nullable = true)\n |-- cust_id: string (nullable = true)\n |-- year: string (nullable = true)\n |-- month: string (nullable = true)\n\n"
     ]
    }
   ],
   "source": [
    "Orders_df.printSchema() ## Checking the schema of the loaded data in the landing zone."
   ]
  },
  {
   "cell_type": "code",
   "execution_count": 0,
   "metadata": {
    "application/vnd.databricks.v1+cell": {
     "cellMetadata": {
      "byteLimit": 2048000,
      "rowLimit": 10000
     },
     "inputWidgets": {},
     "nuid": "9f610369-adc8-4f0e-9bc1-ef2ff081b92a",
     "showTitle": false,
     "title": ""
    }
   },
   "outputs": [
    {
     "output_type": "stream",
     "name": "stdout",
     "output_type": "stream",
     "text": [
      "root\n |-- order_id: integer (nullable = true)\n |-- order_date: string (nullable = true)\n |-- status: string (nullable = true)\n |-- item_id: integer (nullable = true)\n |-- qty_ordered: integer (nullable = true)\n |-- price: string (nullable = true)\n |-- value: string (nullable = true)\n |-- discount_amount: string (nullable = true)\n |-- total: string (nullable = true)\n |-- category: string (nullable = true)\n |-- payment_method: string (nullable = true)\n |-- cust_id: integer (nullable = true)\n |-- year: integer (nullable = true)\n |-- month: string (nullable = true)\n\n"
     ]
    }
   ],
   "source": [
    "from pyspark.sql.functions import month, year, to_date, col\n",
    "\n",
    "Orders_df = Orders_df.withColumn(\"item_id\",  col(\"item_id\").cast(\"integer\"))\n",
    "Orders_df = Orders_df.withColumn(\"qty_ordered\",  col(\"qty_ordered\").cast(\"integer\"))\n",
    "Orders_df = Orders_df.withColumn(\"cust_id\",  col(\"cust_id\").cast(\"integer\"))\n",
    "Orders_df = Orders_df.withColumn(\"year\",  col(\"year\").cast(\"integer\"))\n",
    "\n",
    "Orders_df.printSchema()"
   ]
  },
  {
   "cell_type": "markdown",
   "metadata": {
    "application/vnd.databricks.v1+cell": {
     "cellMetadata": {},
     "inputWidgets": {},
     "nuid": "57fb6ced-5944-47c0-a97e-0a8442f29f2f",
     "showTitle": false,
     "title": ""
    }
   },
   "source": [
    "Changing a datatype of few of the variables for better computation in the stagging zone."
   ]
  },
  {
   "cell_type": "code",
   "execution_count": 0,
   "metadata": {
    "application/vnd.databricks.v1+cell": {
     "cellMetadata": {
      "byteLimit": 2048000,
      "rowLimit": 10000
     },
     "inputWidgets": {},
     "nuid": "ffc4736d-e771-478c-b9c5-0ea3befd3790",
     "showTitle": false,
     "title": ""
    }
   },
   "outputs": [
    {
     "output_type": "stream",
     "name": "stdout",
     "output_type": "stream",
     "text": [
      "+---------+----------+--------------+-------+-----------+-----+------+---------------+------+-----------------+--------------+-------+----+--------+\n| order_id|order_date|        status|item_id|qty_ordered|price| value|discount_amount| total|         category|payment_method|cust_id|year|   month|\n+---------+----------+--------------+-------+-----------+-----+------+---------------+------+-----------------+--------------+-------+----+--------+\n|100354678|2020-10-01|      received| 574772|         21| 89.9|1798.0|            0.0|1798.0|    Men's Fashion|           cod|  60124|2020|Oct-2020|\n|100354678|2020-10-01|      received| 574774|         11| 19.0| 190.0|            0.0| 190.0|    Men's Fashion|           cod|  60124|2020|Oct-2020|\n|100354680|2020-10-01|      complete| 574777|          9|149.9|1199.2|            0.0|1199.2|    Men's Fashion|           cod|  60124|2020|Oct-2020|\n|100354680|2020-10-01|      complete| 574779|          9| 79.9| 639.2|            0.0| 639.2|    Men's Fashion|           cod|  60124|2020|Oct-2020|\n|100367357|2020-11-13|      received| 595185|          2| 99.9|  99.9|            0.0|  99.9|    Men's Fashion|           cod|  60124|2020|Nov-2020|\n|100367357|2020-11-13|      received| 595186|          2| 39.9|  39.9|            0.0|  39.9|    Men's Fashion|           cod|  60124|2020|Nov-2020|\n|100367360|2020-11-13|order_refunded| 595192|          2| 47.6|  47.6|            0.0|  47.6|Mobiles & Tablets|           cod|  60124|2020|Nov-2020|\n|100354677|2020-10-01|      canceled| 574769|          2| 49.0|  49.0|            0.0|  49.0|Mobiles & Tablets|       Payaxis|  42485|2020|Oct-2020|\n|100354677|2020-10-01|      canceled| 574770|          2|135.0| 135.0|            0.0| 135.0|        Computing|       Payaxis|  42485|2020|Oct-2020|\n|100354677|2020-10-01|      canceled| 574771|          2|549.9| 549.9|            0.0| 549.9|       Appliances|       Payaxis|  42485|2020|Oct-2020|\n+---------+----------+--------------+-------+-----------+-----+------+---------------+------+-----------------+--------------+-------+----+--------+\nonly showing top 10 rows\n\n"
     ]
    }
   ],
   "source": [
    "Orders_df.show(10) ## Checking the data again after changing the"
   ]
  },
  {
   "cell_type": "code",
   "execution_count": 0,
   "metadata": {
    "application/vnd.databricks.v1+cell": {
     "cellMetadata": {
      "byteLimit": 2048000,
      "implicitDf": true,
      "rowLimit": 10000
     },
     "inputWidgets": {},
     "nuid": "64325a38-8a4d-4abe-8a13-0767f5188638",
     "showTitle": false,
     "title": ""
    }
   },
   "outputs": [
    {
     "output_type": "display_data",
     "data": {
      "text/html": [
       "<style scoped>\n",
       "  .table-result-container {\n",
       "    max-height: 300px;\n",
       "    overflow: auto;\n",
       "  }\n",
       "  table, th, td {\n",
       "    border: 1px solid black;\n",
       "    border-collapse: collapse;\n",
       "  }\n",
       "  th, td {\n",
       "    padding: 5px;\n",
       "  }\n",
       "  th {\n",
       "    text-align: left;\n",
       "  }\n",
       "</style><div class='table-result-container'><table class='table-result'><thead style='background-color: white'><tr></tr></thead><tbody></tbody></table></div>"
      ]
     },
     "metadata": {
      "application/vnd.databricks.v1+output": {
       "addedWidgets": {},
       "aggData": [],
       "aggError": "",
       "aggOverflow": false,
       "aggSchema": [],
       "aggSeriesLimitReached": false,
       "aggType": "",
       "arguments": {},
       "columnCustomDisplayInfos": {},
       "data": [],
       "datasetInfos": [],
       "dbfsResultPath": null,
       "isJsonSchema": true,
       "metadata": {},
       "overflow": false,
       "plotOptions": {
        "customPlotOptions": {},
        "displayType": "table",
        "pivotAggregation": null,
        "pivotColumns": null,
        "xColumns": null,
        "yColumns": null
       },
       "removedWidgets": [],
       "schema": [],
       "type": "table"
      }
     },
     "output_type": "display_data"
    }
   ],
   "source": [
    "%sql\n",
    "DROP TABLE IF EXISTS landing_orders.orders; --- Checking if the table in the databse exists. So drop and create if exists."
   ]
  },
  {
   "cell_type": "code",
   "execution_count": 0,
   "metadata": {
    "application/vnd.databricks.v1+cell": {
     "cellMetadata": {
      "byteLimit": 2048000,
      "rowLimit": 10000
     },
     "inputWidgets": {},
     "nuid": "cfb3f808-a250-449c-81d6-79cd74e26747",
     "showTitle": false,
     "title": ""
    }
   },
   "outputs": [],
   "source": [
    "Orders_df.write.saveAsTable(\"landing_orders.orders\") ##This is used to save the DataFrame as a table in Spark SQL. The argument passed to saveAsTable  is the database name \"landing_orders\" and the table name \"orders\" .\n",
    "\n"
   ]
  },
  {
   "cell_type": "code",
   "execution_count": 0,
   "metadata": {
    "application/vnd.databricks.v1+cell": {
     "cellMetadata": {
      "byteLimit": 2048000,
      "implicitDf": true,
      "rowLimit": 10000
     },
     "inputWidgets": {},
     "nuid": "0207f5d2-7c97-4007-a76e-49279f27f21e",
     "showTitle": false,
     "title": ""
    }
   },
   "outputs": [],
   "source": [
    "from pyspark.sql import SparkSession\n",
    "\n",
    "spark = SparkSession.builder \\\n",
    "  .appName(\"Databricks Shell\") \\\n",
    "  .config(\"spark.sql.hive.metastorePartitionPruningFallbackOnException\", \"true\") \\\n",
    "  .getOrCreate()"
   ]
  },
  {
   "cell_type": "code",
   "execution_count": 0,
   "metadata": {
    "application/vnd.databricks.v1+cell": {
     "cellMetadata": {
      "byteLimit": 2048000,
      "rowLimit": 10000
     },
     "inputWidgets": {},
     "nuid": "305c0e43-4e45-4523-9978-878fbeb57aa8",
     "showTitle": false,
     "title": ""
    }
   },
   "outputs": [
    {
     "output_type": "stream",
     "name": "stdout",
     "output_type": "stream",
     "text": [
      "+---------+----------+--------------+-------+-----------+-----+------+---------------+------+-----------------+--------------+-------+----+--------+\n| order_id|order_date|        status|item_id|qty_ordered|price| value|discount_amount| total|         category|payment_method|cust_id|year|   month|\n+---------+----------+--------------+-------+-----------+-----+------+---------------+------+-----------------+--------------+-------+----+--------+\n|100354678|2020-10-01|      received| 574772|         21| 89.9|1798.0|            0.0|1798.0|    Men's Fashion|           cod|  60124|2020|Oct-2020|\n|100354678|2020-10-01|      received| 574774|         11| 19.0| 190.0|            0.0| 190.0|    Men's Fashion|           cod|  60124|2020|Oct-2020|\n|100354680|2020-10-01|      complete| 574777|          9|149.9|1199.2|            0.0|1199.2|    Men's Fashion|           cod|  60124|2020|Oct-2020|\n|100354680|2020-10-01|      complete| 574779|          9| 79.9| 639.2|            0.0| 639.2|    Men's Fashion|           cod|  60124|2020|Oct-2020|\n|100367357|2020-11-13|      received| 595185|          2| 99.9|  99.9|            0.0|  99.9|    Men's Fashion|           cod|  60124|2020|Nov-2020|\n|100367357|2020-11-13|      received| 595186|          2| 39.9|  39.9|            0.0|  39.9|    Men's Fashion|           cod|  60124|2020|Nov-2020|\n|100367360|2020-11-13|order_refunded| 595192|          2| 47.6|  47.6|            0.0|  47.6|Mobiles & Tablets|           cod|  60124|2020|Nov-2020|\n|100354677|2020-10-01|      canceled| 574769|          2| 49.0|  49.0|            0.0|  49.0|Mobiles & Tablets|       Payaxis|  42485|2020|Oct-2020|\n|100354677|2020-10-01|      canceled| 574770|          2|135.0| 135.0|            0.0| 135.0|        Computing|       Payaxis|  42485|2020|Oct-2020|\n|100354677|2020-10-01|      canceled| 574771|          2|549.9| 549.9|            0.0| 549.9|       Appliances|       Payaxis|  42485|2020|Oct-2020|\n+---------+----------+--------------+-------+-----------+-----+------+---------------+------+-----------------+--------------+-------+----+--------+\n\n"
     ]
    }
   ],
   "source": [
    "sql_query = \"\"\"\n",
    "SELECT * FROM landing_orders.orders LIMIT 10\n",
    "\"\"\"\n",
    "\n",
    "result_df = spark.sql(sql_query)\n",
    "result_df.show() "
   ]
  },
  {
   "cell_type": "markdown",
   "metadata": {
    "application/vnd.databricks.v1+cell": {
     "cellMetadata": {},
     "inputWidgets": {},
     "nuid": "c76729dc-eb47-4261-a8a9-c5033ce0c6d9",
     "showTitle": false,
     "title": ""
    }
   },
   "source": [
    "Checking the table data after importing from dataframe"
   ]
  },
  {
   "cell_type": "markdown",
   "metadata": {
    "application/vnd.databricks.v1+cell": {
     "cellMetadata": {},
     "inputWidgets": {},
     "nuid": "6087e5a3-88c5-482a-bc38-3dabba1379d0",
     "showTitle": false,
     "title": ""
    }
   },
   "source": [
    "## Loading JSON File\n"
   ]
  },
  {
   "cell_type": "code",
   "execution_count": 0,
   "metadata": {
    "application/vnd.databricks.v1+cell": {
     "cellMetadata": {
      "byteLimit": 2048000,
      "rowLimit": 10000
     },
     "inputWidgets": {},
     "nuid": "25d66fc6-aaae-40c2-af98-3d44f7486917",
     "showTitle": false,
     "title": ""
    }
   },
   "outputs": [],
   "source": [
    "## Read the customer json file\n",
    "Customer = spark.read.json(\"/FileStore/tables/customers.json\")"
   ]
  },
  {
   "cell_type": "code",
   "execution_count": 0,
   "metadata": {
    "application/vnd.databricks.v1+cell": {
     "cellMetadata": {
      "byteLimit": 2048000,
      "rowLimit": 10000
     },
     "inputWidgets": {},
     "nuid": "937e5e82-9256-4161-b640-d0ff3e6ba2c4",
     "showTitle": false,
     "title": ""
    }
   },
   "outputs": [
    {
     "output_type": "stream",
     "name": "stdout",
     "output_type": "stream",
     "text": [
      "+-----------+-----------+--------------+--------------------+------+-----------+---------+-----+-----+----+-------+-----------------+\n|       City|     County|Customer Since|              E Mail|Gender| Place Name|   Region|State|  Zip| age|cust_id|        full_name|\n+-----------+-----------+--------------+--------------------+------+-----------+---------+-----+-----+----+-------+-----------------+\n|     Vinson|     Harmon|     8/22/2006|jani.titus@gmail.com|     F|     Vinson|    South|   OK|73571|43.0|60124.0|      Titus, Jani|\n|     Graham|   Bradford|      2/4/1981| lee.eaker@gmail.com|     M|     Graham|    South|   FL|32042|28.0|42485.0|       Eaker, Lee|\n|Grand Forks|Grand Forks|     6/27/2010|jason.simoneau@gm...|     M|Grand Forks|  Midwest|   ND|58201|65.0|53620.0|  Simoneau, Jason|\n|Laupahoehoe|     Hawaii|      4/3/1992|grover.bayless@ya...|     M|Laupahoehoe|     West|   HI|96764|33.0|56836.0|  Bayless, Grover|\n|     Glendo|     Platte|     6/21/2015|albertina.bensen@...|     F|     Glendo|     West|   WY|82213|73.0|60125.0|Bensen, Albertina|\n| Farmington|     Oconee|    10/19/2016|drema.galle@gmail...|     F| Farmington|    South|   GA|30638|64.0|51286.0|     Galle, Drema|\n|  Nashville|   Davidson|     7/10/2011|sheryll.newsome@g...|     F|  Nashville|    South|   TN|37245|75.0|60126.0| Newsome, Sheryll|\n|    Warwick|       Kent|     5/11/1995|bernard.dewald@ho...|     M|    Warwick|Northeast|   RI| 2889|52.0|60127.0|  Dewald, Bernard|\n|   Sarasota|   Sarasota|     8/25/1998|hilario.brammer@h...|     M|   Sarasota|    South|   FL|34277|31.0|60128.0| Brammer, Hilario|\n| Brownstown|    Fayette|     3/31/2017|elizbeth.raminez@...|     F| Brownstown|  Midwest|   IL|62418|71.0|56449.0|Raminez, Elizbeth|\n+-----------+-----------+--------------+--------------------+------+-----------+---------+-----+-----+----+-------+-----------------+\nonly showing top 10 rows\n\n"
     ]
    }
   ],
   "source": [
    "Customer.show(10) ## Checking the file data"
   ]
  },
  {
   "cell_type": "code",
   "execution_count": 0,
   "metadata": {
    "application/vnd.databricks.v1+cell": {
     "cellMetadata": {
      "byteLimit": 2048000,
      "rowLimit": 10000
     },
     "inputWidgets": {},
     "nuid": "d9fceb74-9f1a-4499-982d-14e31d5f6e93",
     "showTitle": false,
     "title": ""
    }
   },
   "outputs": [
    {
     "output_type": "stream",
     "name": "stdout",
     "output_type": "stream",
     "text": [
      "root\n |-- City: string (nullable = true)\n |-- County: string (nullable = true)\n |-- Customer Since: string (nullable = true)\n |-- E Mail: string (nullable = true)\n |-- Gender: string (nullable = true)\n |-- Place Name: string (nullable = true)\n |-- Region: string (nullable = true)\n |-- State: string (nullable = true)\n |-- Zip: long (nullable = true)\n |-- age: double (nullable = true)\n |-- cust_id: double (nullable = true)\n |-- full_name: string (nullable = true)\n\n"
     ]
    }
   ],
   "source": [
    "Customer.printSchema() ## Checking the imported schema"
   ]
  },
  {
   "cell_type": "code",
   "execution_count": 0,
   "metadata": {
    "application/vnd.databricks.v1+cell": {
     "cellMetadata": {
      "byteLimit": 2048000,
      "rowLimit": 10000
     },
     "inputWidgets": {},
     "nuid": "3b930be8-0875-4a93-81c2-2a6da28a1638",
     "showTitle": false,
     "title": ""
    }
   },
   "outputs": [
    {
     "output_type": "stream",
     "name": "stdout",
     "output_type": "stream",
     "text": [
      "root\n |-- City: string (nullable = true)\n |-- County: string (nullable = true)\n |-- CustomerSince: date (nullable = true)\n |-- EMail: string (nullable = true)\n |-- Gender: string (nullable = true)\n |-- PlaceName: string (nullable = true)\n |-- Region: string (nullable = true)\n |-- State: string (nullable = true)\n |-- Zip: integer (nullable = true)\n |-- age: double (nullable = true)\n |-- cust_id: integer (nullable = true)\n |-- full_name: string (nullable = true)\n\n"
     ]
    }
   ],
   "source": [
    "from pyspark.sql.functions import month, year, to_date, col\n",
    "\n",
    "Customer = Customer.withColumn(\"Customer Since\", to_date(col(\"Customer Since\"), \"MM/dd/yy\"))\n",
    "Customer = Customer.withColumn(\"Zip\",  col(\"Zip\").cast(\"integer\"))\n",
    "Customer = Customer.withColumn(\"cust_id\",  col(\"cust_id\").cast(\"integer\"))\n",
    "Customer = Customer.withColumnRenamed(\"Customer Since\", \"CustomerSince\").withColumnRenamed(\"Place Name\", \"PlaceName\").withColumnRenamed(\"E Mail\", \"EMail\")\n",
    "\n",
    "\n",
    "Customer.printSchema()"
   ]
  },
  {
   "cell_type": "markdown",
   "metadata": {
    "application/vnd.databricks.v1+cell": {
     "cellMetadata": {},
     "inputWidgets": {},
     "nuid": "72ee7e91-53f5-467d-bf56-af6f39803280",
     "showTitle": false,
     "title": ""
    }
   },
   "source": [
    "Doing basic transformation of datatype change and then validating the change by viewing schema"
   ]
  },
  {
   "cell_type": "code",
   "execution_count": 0,
   "metadata": {
    "application/vnd.databricks.v1+cell": {
     "cellMetadata": {
      "byteLimit": 2048000,
      "rowLimit": 10000
     },
     "inputWidgets": {},
     "nuid": "e3b60730-75df-4fb8-b266-449de3ac5cdc",
     "showTitle": false,
     "title": ""
    }
   },
   "outputs": [
    {
     "output_type": "stream",
     "name": "stdout",
     "output_type": "stream",
     "text": [
      "+-----------+-----------+-------------+--------------------+------+-----------+---------+-----+-----+----+-------+-----------------+\n|       City|     County|CustomerSince|               EMail|Gender|  PlaceName|   Region|State|  Zip| age|cust_id|        full_name|\n+-----------+-----------+-------------+--------------------+------+-----------+---------+-----+-----+----+-------+-----------------+\n|     Vinson|     Harmon|   2006-08-22|jani.titus@gmail.com|     F|     Vinson|    South|   OK|73571|43.0|  60124|      Titus, Jani|\n|     Graham|   Bradford|   1981-02-04| lee.eaker@gmail.com|     M|     Graham|    South|   FL|32042|28.0|  42485|       Eaker, Lee|\n|Grand Forks|Grand Forks|   2010-06-27|jason.simoneau@gm...|     M|Grand Forks|  Midwest|   ND|58201|65.0|  53620|  Simoneau, Jason|\n|Laupahoehoe|     Hawaii|   1992-04-03|grover.bayless@ya...|     M|Laupahoehoe|     West|   HI|96764|33.0|  56836|  Bayless, Grover|\n|     Glendo|     Platte|   2015-06-21|albertina.bensen@...|     F|     Glendo|     West|   WY|82213|73.0|  60125|Bensen, Albertina|\n| Farmington|     Oconee|   2016-10-19|drema.galle@gmail...|     F| Farmington|    South|   GA|30638|64.0|  51286|     Galle, Drema|\n|  Nashville|   Davidson|   2011-07-10|sheryll.newsome@g...|     F|  Nashville|    South|   TN|37245|75.0|  60126| Newsome, Sheryll|\n|    Warwick|       Kent|   1995-05-11|bernard.dewald@ho...|     M|    Warwick|Northeast|   RI| 2889|52.0|  60127|  Dewald, Bernard|\n|   Sarasota|   Sarasota|   1998-08-25|hilario.brammer@h...|     M|   Sarasota|    South|   FL|34277|31.0|  60128| Brammer, Hilario|\n| Brownstown|    Fayette|   2017-03-31|elizbeth.raminez@...|     F| Brownstown|  Midwest|   IL|62418|71.0|  56449|Raminez, Elizbeth|\n+-----------+-----------+-------------+--------------------+------+-----------+---------+-----+-----+----+-------+-----------------+\nonly showing top 10 rows\n\n"
     ]
    }
   ],
   "source": [
    "Customer.show(10) ## Checking the transformed data"
   ]
  },
  {
   "cell_type": "code",
   "execution_count": 0,
   "metadata": {
    "application/vnd.databricks.v1+cell": {
     "cellMetadata": {
      "byteLimit": 2048000,
      "rowLimit": 10000
     },
     "inputWidgets": {},
     "nuid": "d8966724-fc8a-4bda-8474-bff5bdab24fc",
     "showTitle": false,
     "title": ""
    }
   },
   "outputs": [
    {
     "output_type": "display_data",
     "data": {
      "text/html": [
       "<style scoped>\n",
       "  .ansiout {\n",
       "    display: block;\n",
       "    unicode-bidi: embed;\n",
       "    white-space: pre-wrap;\n",
       "    word-wrap: break-word;\n",
       "    word-break: break-all;\n",
       "    font-family: \"Menlo\", \"Monaco\", \"Consolas\", \"Ubuntu Mono\", \"Source Code Pro\", monospace;\n",
       "    font-size: 13px;\n",
       "    color: #555;\n",
       "    margin-left: 4px;\n",
       "    line-height: 19px;\n",
       "  }\n",
       "</style>\n",
       "<div class=\"ansiout\">res3: Boolean = false\n",
       "</div>"
      ]
     },
     "metadata": {
      "application/vnd.databricks.v1+output": {
       "addedWidgets": {},
       "arguments": {},
       "data": "<div class=\"ansiout\">res3: Boolean = false\n</div>",
       "datasetInfos": [],
       "metadata": {
        "isDbfsCommandResult": false
       },
       "removedWidgets": [],
       "type": "html"
      }
     },
     "output_type": "display_data"
    }
   ],
   "source": [
    "%fs rm -r dbfs:/user/hive/warehouse/landing_orders.db/CustomerMaster "
   ]
  },
  {
   "cell_type": "code",
   "execution_count": 0,
   "metadata": {
    "application/vnd.databricks.v1+cell": {
     "cellMetadata": {
      "byteLimit": 2048000,
      "implicitDf": true,
      "rowLimit": 10000
     },
     "inputWidgets": {},
     "nuid": "e4d30aff-f25f-4bf9-bc67-daa4a820712a",
     "showTitle": false,
     "title": ""
    }
   },
   "outputs": [
    {
     "output_type": "stream",
     "name": "stdout",
     "output_type": "stream",
     "text": [
      "Out[24]: False"
     ]
    }
   ],
   "source": [
    "\n",
    "\n",
    "dbutils.fs.rm(\"dbfs:/user/hive/warehouse/landing_orders.db/customermaster\", True)\n",
    "\n"
   ]
  },
  {
   "cell_type": "markdown",
   "metadata": {
    "application/vnd.databricks.v1+cell": {
     "cellMetadata": {},
     "inputWidgets": {},
     "nuid": "9fc5ca38-e93f-4c67-b6ee-8d07848b3189",
     "showTitle": false,
     "title": ""
    }
   },
   "source": [
    "Above two queries removing files and directories related to above "
   ]
  },
  {
   "cell_type": "code",
   "execution_count": 0,
   "metadata": {
    "application/vnd.databricks.v1+cell": {
     "cellMetadata": {
      "byteLimit": 2048000,
      "implicitDf": true,
      "rowLimit": 10000
     },
     "inputWidgets": {},
     "nuid": "a0fe1626-aa96-46c1-82bb-455bb475e466",
     "showTitle": false,
     "title": ""
    }
   },
   "outputs": [
    {
     "output_type": "display_data",
     "data": {
      "text/html": [
       "<style scoped>\n",
       "  .table-result-container {\n",
       "    max-height: 300px;\n",
       "    overflow: auto;\n",
       "  }\n",
       "  table, th, td {\n",
       "    border: 1px solid black;\n",
       "    border-collapse: collapse;\n",
       "  }\n",
       "  th, td {\n",
       "    padding: 5px;\n",
       "  }\n",
       "  th {\n",
       "    text-align: left;\n",
       "  }\n",
       "</style><div class='table-result-container'><table class='table-result'><thead style='background-color: white'><tr></tr></thead><tbody></tbody></table></div>"
      ]
     },
     "metadata": {
      "application/vnd.databricks.v1+output": {
       "addedWidgets": {},
       "aggData": [],
       "aggError": "",
       "aggOverflow": false,
       "aggSchema": [],
       "aggSeriesLimitReached": false,
       "aggType": "",
       "arguments": {},
       "columnCustomDisplayInfos": {},
       "data": [],
       "datasetInfos": [],
       "dbfsResultPath": null,
       "isJsonSchema": true,
       "metadata": {},
       "overflow": false,
       "plotOptions": {
        "customPlotOptions": {},
        "displayType": "table",
        "pivotAggregation": null,
        "pivotColumns": null,
        "xColumns": null,
        "yColumns": null
       },
       "removedWidgets": [],
       "schema": [],
       "type": "table"
      }
     },
     "output_type": "display_data"
    }
   ],
   "source": [
    "%sql\n",
    "DROP TABLE IF EXISTS landing_orders.customermaster; --- Drop table if exists "
   ]
  },
  {
   "cell_type": "code",
   "execution_count": 0,
   "metadata": {
    "application/vnd.databricks.v1+cell": {
     "cellMetadata": {
      "byteLimit": 2048000,
      "rowLimit": 10000
     },
     "inputWidgets": {},
     "nuid": "6393c298-c4cd-4f68-ba65-331781834b74",
     "showTitle": false,
     "title": ""
    }
   },
   "outputs": [],
   "source": [
    "Customer.write.saveAsTable(\"landing_orders.customermaster\") # Saving the data in the table format from dataframe.\n"
   ]
  },
  {
   "cell_type": "code",
   "execution_count": 0,
   "metadata": {
    "application/vnd.databricks.v1+cell": {
     "cellMetadata": {
      "byteLimit": 2048000,
      "implicitDf": true,
      "rowLimit": 10000
     },
     "inputWidgets": {},
     "nuid": "03511c4a-7afb-44c6-bbe4-3fd9298a62a1",
     "showTitle": false,
     "title": ""
    }
   },
   "outputs": [
    {
     "output_type": "stream",
     "name": "stdout",
     "output_type": "stream",
     "text": [
      "+-----------+-----------+-------------+--------------------+------+-----------+---------+-----+-----+----+-------+-----------------+\n|       City|     County|CustomerSince|               EMail|Gender|  PlaceName|   Region|State|  Zip| age|cust_id|        full_name|\n+-----------+-----------+-------------+--------------------+------+-----------+---------+-----+-----+----+-------+-----------------+\n|     Vinson|     Harmon|   2006-08-22|jani.titus@gmail.com|     F|     Vinson|    South|   OK|73571|43.0|  60124|      Titus, Jani|\n|     Graham|   Bradford|   1981-02-04| lee.eaker@gmail.com|     M|     Graham|    South|   FL|32042|28.0|  42485|       Eaker, Lee|\n|Grand Forks|Grand Forks|   2010-06-27|jason.simoneau@gm...|     M|Grand Forks|  Midwest|   ND|58201|65.0|  53620|  Simoneau, Jason|\n|Laupahoehoe|     Hawaii|   1992-04-03|grover.bayless@ya...|     M|Laupahoehoe|     West|   HI|96764|33.0|  56836|  Bayless, Grover|\n|     Glendo|     Platte|   2015-06-21|albertina.bensen@...|     F|     Glendo|     West|   WY|82213|73.0|  60125|Bensen, Albertina|\n| Farmington|     Oconee|   2016-10-19|drema.galle@gmail...|     F| Farmington|    South|   GA|30638|64.0|  51286|     Galle, Drema|\n|  Nashville|   Davidson|   2011-07-10|sheryll.newsome@g...|     F|  Nashville|    South|   TN|37245|75.0|  60126| Newsome, Sheryll|\n|    Warwick|       Kent|   1995-05-11|bernard.dewald@ho...|     M|    Warwick|Northeast|   RI| 2889|52.0|  60127|  Dewald, Bernard|\n|   Sarasota|   Sarasota|   1998-08-25|hilario.brammer@h...|     M|   Sarasota|    South|   FL|34277|31.0|  60128| Brammer, Hilario|\n| Brownstown|    Fayette|   2017-03-31|elizbeth.raminez@...|     F| Brownstown|  Midwest|   IL|62418|71.0|  56449|Raminez, Elizbeth|\n+-----------+-----------+-------------+--------------------+------+-----------+---------+-----+-----+----+-------+-----------------+\n\n"
     ]
    }
   ],
   "source": [
    "\n",
    "sql_query = \"\"\"\n",
    "SELECT * FROM landing_orders.customermaster limit 10;\n",
    "\"\"\"\n",
    "\n",
    "result_df = spark.sql(sql_query)\n",
    "result_df.show() \n",
    "\n",
    "## Viewing the customer master data loaded in the databse."
   ]
  }
 ],
 "metadata": {
  "application/vnd.databricks.v1+notebook": {
   "dashboards": [],
   "language": "python",
   "notebookMetadata": {
    "mostRecentlyExecutedCommandWithImplicitDF": {
     "commandId": 287692461194222,
     "dataframes": [
      "_sqldf"
     ]
    },
    "pythonIndentUnit": 4
   },
   "notebookName": "G_14_Landing_to_Staging",
   "widgets": {}
  }
 },
 "nbformat": 4,
 "nbformat_minor": 0
}
